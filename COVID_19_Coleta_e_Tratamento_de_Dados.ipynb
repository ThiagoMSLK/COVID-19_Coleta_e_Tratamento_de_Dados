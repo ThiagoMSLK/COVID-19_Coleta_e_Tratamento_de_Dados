{
  "cells": [
    {
      "cell_type": "markdown",
      "metadata": {
        "id": "U9Q8mVHi4jIG"
      },
      "source": [
        "# **Tópicos**\n",
        "\n",
        "<ol type=\"1\">\n",
        "  <li>Introdução;</li>\n",
        "  <li>Análise Exploratória de Dados;</li>\n",
        "  <li>Visualização Interativa de Dados;</li>\n",
        "  <li>Storytelling.</li>\n",
        "</ol>"
      ]
    },
    {
      "cell_type": "markdown",
      "metadata": {
        "id": "CYdm571C5Bb_"
      },
      "source": [
        "## 1 - Introdução"
      ]
    },
    {
      "cell_type": "markdown",
      "metadata": {
        "id": "irx1HBzJp_zd"
      },
      "source": [
        "### **1.1 - TLDR**"
      ]
    },
    {
      "cell_type": "markdown",
      "metadata": {
        "id": "aVpI3IMVqBQ0"
      },
      "source": [
        " - **Dashboard**:\n",
        "  - Looker Studio ([link](https://lookerstudio.google.com/reporting/1dcda4b4-2a8a-4f1f-936e-9a3b06dc82d2)).\n",
        " - **Processamento**:\n",
        "  - Kaggle Notebook ([link](https://www.kaggle.com/code/thiagomartinslk/covid-19-coleta-e-tratamento-de-dados)).\n",
        " - **Fontes**:\n",
        "  - Casos pela universidade John Hopkins ([link](https://github.com/CSSEGISandData/COVID-19/tree/master/csse_covid_19_data/csse_covid_19_daily_reports));\n",
        "  - Vacinação pela universidade de Oxford ([link](https://covid.ourworldindata.org/data/owid-covid-data.csv))."
      ]
    },
    {
      "cell_type": "markdown",
      "metadata": {
        "id": "Qz0hikYG5EPB"
      },
      "source": [
        "### **1.2 - Pandemia Coronavírus 2019**"
      ]
    },
    {
      "cell_type": "markdown",
      "metadata": {
        "id": "5xZq_HI-5Vr7"
      },
      "source": [
        "> A COVID-19 é uma infecção respiratória aguda causada pelo coronavírus SARS-CoV-2, potencialmente grave, de elevada transmissibilidade e de distribuição global. Fonte: Governo brasileiro ([link](https://www.gov.br/saude/pt-br/coronavirus/o-que-e-o-coronavirus))."
      ]
    },
    {
      "cell_type": "markdown",
      "metadata": {
        "id": "xAa5eUKT5adT"
      },
      "source": [
        "A disponibilidade de dados sobre a evolução da pandemia no tempo em uma determinada região geográfica é fundamental para o seu combate! Este projeto busca construir um dashboard de dados para exploração e visualização interativa de dados sobre o avanço de casos e da vacinação do Brasil. O processamento de dados está neste [link](https://www.kaggle.com/code/thiagomartinslk/covid-19-coleta-e-tratamento-de-dados) e o dashboard, neste [link](https://lookerstudio.google.com/reporting/1dcda4b4-2a8a-4f1f-936e-9a3b06dc82d2)."
      ]
    },
    {
      "cell_type": "markdown",
      "metadata": {
        "id": "OE5-xmIp5eVm"
      },
      "source": [
        "### **1.3 - Dados**"
      ]
    },
    {
      "cell_type": "markdown",
      "metadata": {
        "id": "TVIZz4OH5gKI"
      },
      "source": [
        "Os dados sobre **casos da COVID-19** são compilados pelo centro de ciência de sistemas e engenharia da universidade americana **John Hopkins** ([link](https://www.jhu.edu)). Os dados são atualizados diariamente deste janeiro de 2020 com uma granularidade temporal de dias e geográfica de regiões de países (estados, condados, etc.). O website do projeto pode ser acessado neste [link](https://systems.jhu.edu/research/public-health/ncov/) enquanto os dados, neste [link](https://github.com/CSSEGISandData/COVID-19/tree/master/csse_covid_19_data/csse_covid_19_daily_reports). Abaixo estão descritos os dados derivados do seu processamento."
      ]
    },
    {
      "cell_type": "markdown",
      "metadata": {
        "id": "cCt9hViR5lmi"
      },
      "source": [
        " - **date**: data de referência;\n",
        " - **state**: estado;\n",
        " - **country**: país;\n",
        " - **population**: população estimada;\n",
        " - **confirmed**: número acumulado de infectados;\n",
        " - **confirmed_1d**: número diário de infectados;\n",
        " - **confirmed_moving_avg_7d**: média móvel de 7 dias do número diário de infectados;\n",
        " - **confirmed_moving_avg_7d_rate_14d**: média móvel de 7 dias dividido pela média móvel de 7 dias de 14 dias atrás;\n",
        " - **deaths**: número acumulado de mortos;\n",
        " - **deaths_1d**: número diário de mortos;\n",
        " - **deaths_moving_avg_7d**: média móvel de 7 dias do número diário de mortos;\n",
        " - **deaths_moving_avg_7d**: média móvel de 7 dias dividido pela média móvel de 7 dias de 14 dias atrás;\n",
        " - **month**: mês de referência;\n",
        " - **year**: ano de referência."
      ]
    },
    {
      "cell_type": "markdown",
      "metadata": {
        "id": "_WHM0pI75lVK"
      },
      "source": [
        "Os dados sobre **vacinação da COVID-19** são compilados pelo projeto Nosso Mundo em Dados (*Our World in Data* ou OWID) da universidade britânica de **Oxford** ([link](https://www.ox.ac.uk)). Os dados são **atualizados diariamente** deste janeiro de 2020 com uma **granularidade temporal de dias e geográfica de países**. O website do projeto pode ser acessado neste [link](https://ourworldindata.org) enquanto os dados, neste [link](https://covid.ourworldindata.org/data/owid-covid-data.csv). Abaixo estão descritos os dados derivados do seu processamento."
      ]
    },
    {
      "cell_type": "markdown",
      "metadata": {
        "id": "L5ii1KMn5kiU"
      },
      "source": [
        " - **date**: data de referência;\n",
        " - **country**: país;\n",
        " - **population**: população estimada;\n",
        " - **total**: número acumulado de doses administradas;\n",
        " - **one_shot**: número acumulado de pessoas com uma dose;\n",
        " - **one_shot_perc**: número acumulado relativo de pessoas com uma dose;\n",
        " - **two_shots**: número acumulado de pessoas com duas doses;\n",
        " - **two_shot_perc**: número acumulado relativo de pessoas com duas doses;\n",
        " - **three_shots**: número acumulado de pessoas com três doses;\n",
        " - **three_shot_perc**: número acumulado relativo de pessoas com três doses;\n",
        " - **month**: mês de referência;\n",
        " - **year**: ano de referência."
      ]
    },
    {
      "cell_type": "markdown",
      "metadata": {
        "id": "b7ziU_MP5nPD"
      },
      "source": [
        "##2 - Instalando Dependências"
      ]
    },
    {
      "cell_type": "markdown",
      "metadata": {
        "id": "lVPa_Rr5Z6fP"
      },
      "source": [
        "Instalação da biblioteca Selenium."
      ]
    },
    {
      "cell_type": "code",
      "execution_count": null,
      "metadata": {
        "colab": {
          "base_uri": "https://localhost:8080/"
        },
        "id": "Ltt6X_hUERwn",
        "outputId": "99338a1d-df28-451a-b4aa-c462eeaeec10"
      },
      "outputs": [
        {
          "name": "stdout",
          "output_type": "stream",
          "text": [
            "Collecting selenium\n",
            "  Downloading selenium-4.30.0-py3-none-any.whl.metadata (7.5 kB)\n",
            "Requirement already satisfied: urllib3<3,>=1.26 in /usr/local/lib/python3.11/dist-packages (from urllib3[socks]<3,>=1.26->selenium) (2.3.0)\n",
            "Collecting trio~=0.17 (from selenium)\n",
            "  Downloading trio-0.29.0-py3-none-any.whl.metadata (8.5 kB)\n",
            "Collecting trio-websocket~=0.9 (from selenium)\n",
            "  Downloading trio_websocket-0.12.2-py3-none-any.whl.metadata (5.1 kB)\n",
            "Requirement already satisfied: certifi>=2021.10.8 in /usr/local/lib/python3.11/dist-packages (from selenium) (2025.1.31)\n",
            "Requirement already satisfied: typing_extensions~=4.9 in /usr/local/lib/python3.11/dist-packages (from selenium) (4.12.2)\n",
            "Requirement already satisfied: websocket-client~=1.8 in /usr/local/lib/python3.11/dist-packages (from selenium) (1.8.0)\n",
            "Requirement already satisfied: attrs>=23.2.0 in /usr/local/lib/python3.11/dist-packages (from trio~=0.17->selenium) (25.3.0)\n",
            "Requirement already satisfied: sortedcontainers in /usr/local/lib/python3.11/dist-packages (from trio~=0.17->selenium) (2.4.0)\n",
            "Requirement already satisfied: idna in /usr/local/lib/python3.11/dist-packages (from trio~=0.17->selenium) (3.10)\n",
            "Collecting outcome (from trio~=0.17->selenium)\n",
            "  Downloading outcome-1.3.0.post0-py2.py3-none-any.whl.metadata (2.6 kB)\n",
            "Requirement already satisfied: sniffio>=1.3.0 in /usr/local/lib/python3.11/dist-packages (from trio~=0.17->selenium) (1.3.1)\n",
            "Collecting wsproto>=0.14 (from trio-websocket~=0.9->selenium)\n",
            "  Downloading wsproto-1.2.0-py3-none-any.whl.metadata (5.6 kB)\n",
            "Requirement already satisfied: pysocks!=1.5.7,<2.0,>=1.5.6 in /usr/local/lib/python3.11/dist-packages (from urllib3[socks]<3,>=1.26->selenium) (1.7.1)\n",
            "Requirement already satisfied: h11<1,>=0.9.0 in /usr/local/lib/python3.11/dist-packages (from wsproto>=0.14->trio-websocket~=0.9->selenium) (0.14.0)\n",
            "Downloading selenium-4.30.0-py3-none-any.whl (9.4 MB)\n",
            "\u001b[2K   \u001b[90m━━━━━━━━━━━━━━━━━━━━━━━━━━━━━━━━━━━━━━━━\u001b[0m \u001b[32m9.4/9.4 MB\u001b[0m \u001b[31m19.1 MB/s\u001b[0m eta \u001b[36m0:00:00\u001b[0m\n",
            "\u001b[?25hDownloading trio-0.29.0-py3-none-any.whl (492 kB)\n",
            "\u001b[2K   \u001b[90m━━━━━━━━━━━━━━━━━━━━━━━━━━━━━━━━━━━━━━━━\u001b[0m \u001b[32m492.9/492.9 kB\u001b[0m \u001b[31m13.3 MB/s\u001b[0m eta \u001b[36m0:00:00\u001b[0m\n",
            "\u001b[?25hDownloading trio_websocket-0.12.2-py3-none-any.whl (21 kB)\n",
            "Downloading outcome-1.3.0.post0-py2.py3-none-any.whl (10 kB)\n",
            "Downloading wsproto-1.2.0-py3-none-any.whl (24 kB)\n",
            "Installing collected packages: wsproto, outcome, trio, trio-websocket, selenium\n",
            "Successfully installed outcome-1.3.0.post0 selenium-4.30.0 trio-0.29.0 trio-websocket-0.12.2 wsproto-1.2.0\n"
          ]
        }
      ],
      "source": [
        "!pip install selenium"
      ]
    },
    {
      "cell_type": "markdown",
      "metadata": {
        "id": "DlcGj90SZ_eV"
      },
      "source": [
        "Atualizar a lista de pacotes disponíveis"
      ]
    },
    {
      "cell_type": "code",
      "execution_count": null,
      "metadata": {
        "colab": {
          "base_uri": "https://localhost:8080/"
        },
        "id": "VxM_4r_yMaRd",
        "outputId": "c7753a09-4f3a-4760-aa60-055f688c6041"
      },
      "outputs": [
        {
          "name": "stdout",
          "output_type": "stream",
          "text": [
            "\r0% [Working]\r            \rHit:1 http://archive.ubuntu.com/ubuntu jammy InRelease\n",
            "\r0% [Waiting for headers] [Connecting to security.ubuntu.com (185.125.190.82)] [Connected to cloud.r-\r                                                                                                    \rGet:2 http://archive.ubuntu.com/ubuntu jammy-updates InRelease [128 kB]\n",
            "\r                                                                                                    \rGet:3 https://developer.download.nvidia.com/compute/cuda/repos/ubuntu2204/x86_64  InRelease [1,581 B]\n",
            "Get:4 http://security.ubuntu.com/ubuntu jammy-security InRelease [129 kB]\n",
            "Get:5 https://cloud.r-project.org/bin/linux/ubuntu jammy-cran40/ InRelease [3,632 B]\n",
            "Get:6 http://archive.ubuntu.com/ubuntu jammy-backports InRelease [127 kB]\n",
            "Get:7 https://r2u.stat.illinois.edu/ubuntu jammy InRelease [6,555 B]\n",
            "Hit:8 https://ppa.launchpadcontent.net/deadsnakes/ppa/ubuntu jammy InRelease\n",
            "Hit:9 https://ppa.launchpadcontent.net/graphics-drivers/ppa/ubuntu jammy InRelease\n",
            "Get:10 https://developer.download.nvidia.com/compute/cuda/repos/ubuntu2204/x86_64  Packages [1,381 kB]\n",
            "Hit:11 https://ppa.launchpadcontent.net/ubuntugis/ppa/ubuntu jammy InRelease\n",
            "Get:12 http://archive.ubuntu.com/ubuntu jammy-updates/restricted amd64 Packages [4,041 kB]\n",
            "Get:13 http://archive.ubuntu.com/ubuntu jammy-updates/main amd64 Packages [3,043 kB]\n",
            "Get:14 http://archive.ubuntu.com/ubuntu jammy-updates/universe amd64 Packages [1,538 kB]\n",
            "Get:15 http://archive.ubuntu.com/ubuntu jammy-updates/multiverse amd64 Packages [55.7 kB]\n",
            "Get:16 http://archive.ubuntu.com/ubuntu jammy-backports/universe amd64 Packages [35.2 kB]\n",
            "Get:17 https://r2u.stat.illinois.edu/ubuntu jammy/main all Packages [8,784 kB]\n",
            "Get:18 https://r2u.stat.illinois.edu/ubuntu jammy/main amd64 Packages [2,686 kB]\n",
            "Get:19 http://security.ubuntu.com/ubuntu jammy-security/restricted amd64 Packages [3,884 kB]\n",
            "Get:20 http://security.ubuntu.com/ubuntu jammy-security/main amd64 Packages [2,733 kB]\n",
            "Get:21 http://security.ubuntu.com/ubuntu jammy-security/universe amd64 Packages [1,239 kB]\n",
            "Get:22 http://security.ubuntu.com/ubuntu jammy-security/multiverse amd64 Packages [47.7 kB]\n",
            "Fetched 29.9 MB in 9s (3,243 kB/s)\n",
            "Reading package lists... Done\n",
            "W: Skipping acquire of configured file 'main/source/Sources' as repository 'https://r2u.stat.illinois.edu/ubuntu jammy InRelease' does not seem to provide it (sources.list entry misspelt?)\n"
          ]
        }
      ],
      "source": [
        "!apt-get update"
      ]
    },
    {
      "cell_type": "markdown",
      "metadata": {
        "id": "yKpYBewvaONB"
      },
      "source": [
        "Instalação do driver do Chromium"
      ]
    },
    {
      "cell_type": "code",
      "execution_count": null,
      "metadata": {
        "colab": {
          "base_uri": "https://localhost:8080/"
        },
        "id": "oq0GZNfJMekI",
        "outputId": "b52ca3eb-bb71-42ab-e92f-c39487ce065d"
      },
      "outputs": [
        {
          "name": "stdout",
          "output_type": "stream",
          "text": [
            "Reading package lists... Done\n",
            "Building dependency tree... Done\n",
            "Reading state information... Done\n",
            "Note, selecting 'chromium-chromedriver' instead of 'chromium-driver'\n",
            "The following additional packages will be installed:\n",
            "  apparmor chromium-browser libfuse3-3 snapd squashfs-tools systemd-hwe-hwdb udev\n",
            "Suggested packages:\n",
            "  apparmor-profiles-extra apparmor-utils fuse3 zenity | kdialog\n",
            "The following NEW packages will be installed:\n",
            "  apparmor chromium-browser chromium-chromedriver libfuse3-3 snapd squashfs-tools systemd-hwe-hwdb\n",
            "  udev\n",
            "0 upgraded, 8 newly installed, 0 to remove and 37 not upgraded.\n",
            "Need to get 30.2 MB of archives.\n",
            "After this operation, 123 MB of additional disk space will be used.\n",
            "Get:1 http://archive.ubuntu.com/ubuntu jammy-updates/main amd64 apparmor amd64 3.0.4-2ubuntu2.4 [598 kB]\n",
            "Get:2 http://archive.ubuntu.com/ubuntu jammy/main amd64 squashfs-tools amd64 1:4.5-3build1 [159 kB]\n",
            "Get:3 http://archive.ubuntu.com/ubuntu jammy-updates/main amd64 udev amd64 249.11-0ubuntu3.12 [1,557 kB]\n",
            "Get:4 http://archive.ubuntu.com/ubuntu jammy/main amd64 libfuse3-3 amd64 3.10.5-1build1 [81.2 kB]\n",
            "Get:5 http://archive.ubuntu.com/ubuntu jammy-updates/main amd64 snapd amd64 2.67.1+22.04 [27.8 MB]\n",
            "Get:6 http://archive.ubuntu.com/ubuntu jammy-updates/universe amd64 chromium-browser amd64 1:85.0.4183.83-0ubuntu2.22.04.1 [49.2 kB]\n",
            "Get:7 http://archive.ubuntu.com/ubuntu jammy-updates/universe amd64 chromium-chromedriver amd64 1:85.0.4183.83-0ubuntu2.22.04.1 [2,308 B]\n",
            "Get:8 http://archive.ubuntu.com/ubuntu jammy-updates/main amd64 systemd-hwe-hwdb all 249.11.5 [3,228 B]\n",
            "Fetched 30.2 MB in 2s (12.9 MB/s)\n",
            "Preconfiguring packages ...\n",
            "Selecting previously unselected package apparmor.\n",
            "(Reading database ... 126209 files and directories currently installed.)\n",
            "Preparing to unpack .../apparmor_3.0.4-2ubuntu2.4_amd64.deb ...\n",
            "Unpacking apparmor (3.0.4-2ubuntu2.4) ...\n",
            "Selecting previously unselected package squashfs-tools.\n",
            "Preparing to unpack .../squashfs-tools_1%3a4.5-3build1_amd64.deb ...\n",
            "Unpacking squashfs-tools (1:4.5-3build1) ...\n",
            "Selecting previously unselected package udev.\n",
            "Preparing to unpack .../udev_249.11-0ubuntu3.12_amd64.deb ...\n",
            "Unpacking udev (249.11-0ubuntu3.12) ...\n",
            "Selecting previously unselected package libfuse3-3:amd64.\n",
            "Preparing to unpack .../libfuse3-3_3.10.5-1build1_amd64.deb ...\n",
            "Unpacking libfuse3-3:amd64 (3.10.5-1build1) ...\n",
            "Selecting previously unselected package snapd.\n",
            "Preparing to unpack .../snapd_2.67.1+22.04_amd64.deb ...\n",
            "Unpacking snapd (2.67.1+22.04) ...\n",
            "Setting up apparmor (3.0.4-2ubuntu2.4) ...\n",
            "Created symlink /etc/systemd/system/sysinit.target.wants/apparmor.service → /lib/systemd/system/apparmor.service.\n",
            "Setting up squashfs-tools (1:4.5-3build1) ...\n",
            "Setting up udev (249.11-0ubuntu3.12) ...\n",
            "invoke-rc.d: could not determine current runlevel\n",
            "invoke-rc.d: policy-rc.d denied execution of start.\n",
            "Setting up libfuse3-3:amd64 (3.10.5-1build1) ...\n",
            "Setting up snapd (2.67.1+22.04) ...\n",
            "Created symlink /etc/systemd/system/multi-user.target.wants/snapd.apparmor.service → /lib/systemd/system/snapd.apparmor.service.\n",
            "Created symlink /etc/systemd/system/multi-user.target.wants/snapd.autoimport.service → /lib/systemd/system/snapd.autoimport.service.\n",
            "Created symlink /etc/systemd/system/multi-user.target.wants/snapd.core-fixup.service → /lib/systemd/system/snapd.core-fixup.service.\n",
            "Created symlink /etc/systemd/system/multi-user.target.wants/snapd.recovery-chooser-trigger.service → /lib/systemd/system/snapd.recovery-chooser-trigger.service.\n",
            "Created symlink /etc/systemd/system/multi-user.target.wants/snapd.seeded.service → /lib/systemd/system/snapd.seeded.service.\n",
            "Created symlink /etc/systemd/system/cloud-final.service.wants/snapd.seeded.service → /lib/systemd/system/snapd.seeded.service.\n",
            "Unit /lib/systemd/system/snapd.seeded.service is added as a dependency to a non-existent unit cloud-final.service.\n",
            "Created symlink /etc/systemd/system/multi-user.target.wants/snapd.service → /lib/systemd/system/snapd.service.\n",
            "Created symlink /etc/systemd/system/timers.target.wants/snapd.snap-repair.timer → /lib/systemd/system/snapd.snap-repair.timer.\n",
            "Created symlink /etc/systemd/system/sockets.target.wants/snapd.socket → /lib/systemd/system/snapd.socket.\n",
            "Created symlink /etc/systemd/system/final.target.wants/snapd.system-shutdown.service → /lib/systemd/system/snapd.system-shutdown.service.\n",
            "Selecting previously unselected package chromium-browser.\n",
            "(Reading database ... 126638 files and directories currently installed.)\n",
            "Preparing to unpack .../chromium-browser_1%3a85.0.4183.83-0ubuntu2.22.04.1_amd64.deb ...\n",
            "=> Installing the chromium snap\n",
            "==> Checking connectivity with the snap store\n",
            "===> System doesn't have a working snapd, skipping\n",
            "Unpacking chromium-browser (1:85.0.4183.83-0ubuntu2.22.04.1) ...\n",
            "Selecting previously unselected package chromium-chromedriver.\n",
            "Preparing to unpack .../chromium-chromedriver_1%3a85.0.4183.83-0ubuntu2.22.04.1_amd64.deb ...\n",
            "Unpacking chromium-chromedriver (1:85.0.4183.83-0ubuntu2.22.04.1) ...\n",
            "Selecting previously unselected package systemd-hwe-hwdb.\n",
            "Preparing to unpack .../systemd-hwe-hwdb_249.11.5_all.deb ...\n",
            "Unpacking systemd-hwe-hwdb (249.11.5) ...\n",
            "Setting up systemd-hwe-hwdb (249.11.5) ...\n",
            "Setting up chromium-browser (1:85.0.4183.83-0ubuntu2.22.04.1) ...\n",
            "update-alternatives: using /usr/bin/chromium-browser to provide /usr/bin/x-www-browser (x-www-browser) in auto mode\n",
            "update-alternatives: using /usr/bin/chromium-browser to provide /usr/bin/gnome-www-browser (gnome-www-browser) in auto mode\n",
            "Setting up chromium-chromedriver (1:85.0.4183.83-0ubuntu2.22.04.1) ...\n",
            "Processing triggers for udev (249.11-0ubuntu3.12) ...\n",
            "Processing triggers for mailcap (3.70+nmu1ubuntu1) ...\n",
            "Processing triggers for hicolor-icon-theme (0.17-2) ...\n",
            "Processing triggers for libc-bin (2.35-0ubuntu3.8) ...\n",
            "/sbin/ldconfig.real: /usr/local/lib/libhwloc.so.15 is not a symbolic link\n",
            "\n",
            "/sbin/ldconfig.real: /usr/local/lib/libtcm.so.1 is not a symbolic link\n",
            "\n",
            "/sbin/ldconfig.real: /usr/local/lib/libtbbmalloc_proxy.so.2 is not a symbolic link\n",
            "\n",
            "/sbin/ldconfig.real: /usr/local/lib/libtbbbind_2_0.so.3 is not a symbolic link\n",
            "\n",
            "/sbin/ldconfig.real: /usr/local/lib/libtbbmalloc.so.2 is not a symbolic link\n",
            "\n",
            "/sbin/ldconfig.real: /usr/local/lib/libtbb.so.12 is not a symbolic link\n",
            "\n",
            "/sbin/ldconfig.real: /usr/local/lib/libur_adapter_opencl.so.0 is not a symbolic link\n",
            "\n",
            "/sbin/ldconfig.real: /usr/local/lib/libtbbbind.so.3 is not a symbolic link\n",
            "\n",
            "/sbin/ldconfig.real: /usr/local/lib/libtcm_debug.so.1 is not a symbolic link\n",
            "\n",
            "/sbin/ldconfig.real: /usr/local/lib/libur_adapter_level_zero.so.0 is not a symbolic link\n",
            "\n",
            "/sbin/ldconfig.real: /usr/local/lib/libur_loader.so.0 is not a symbolic link\n",
            "\n",
            "/sbin/ldconfig.real: /usr/local/lib/libumf.so.0 is not a symbolic link\n",
            "\n",
            "/sbin/ldconfig.real: /usr/local/lib/libtbbbind_2_5.so.3 is not a symbolic link\n",
            "\n",
            "Processing triggers for man-db (2.10.2-1) ...\n",
            "Processing triggers for dbus (1.12.20-2ubuntu4.1) ...\n"
          ]
        }
      ],
      "source": [
        "!apt-get install chromium-driver"
      ]
    },
    {
      "cell_type": "markdown",
      "metadata": {
        "id": "YFq9nv4LbT8j"
      },
      "source": [
        "##3 - Web Scraping"
      ]
    },
    {
      "cell_type": "markdown",
      "metadata": {
        "id": "QxgXesRkWKMm"
      },
      "source": [
        "### 3.1 - Importação das Bibliotecas"
      ]
    },
    {
      "cell_type": "markdown",
      "metadata": {
        "id": "QPyd859TWDpG"
      },
      "source": [
        "***1*** - Importação das bibliotecas"
      ]
    },
    {
      "cell_type": "code",
      "execution_count": null,
      "metadata": {
        "id": "wG57vxX4m7eU"
      },
      "outputs": [],
      "source": [
        "from selenium import webdriver\n",
        "from selenium.webdriver.common.by import By\n",
        "import pandas as pd\n",
        "import numpy as np"
      ]
    },
    {
      "cell_type": "markdown",
      "metadata": {
        "id": "AZdhxQa8WZLq"
      },
      "source": [
        "***2*** - Suprimindo avisos de erro."
      ]
    },
    {
      "cell_type": "code",
      "execution_count": null,
      "metadata": {
        "id": "IKlp3zqEJOvZ"
      },
      "outputs": [],
      "source": [
        "# Para não ficar recebendo mensagens de erro desnecessário\n",
        "import warnings\n",
        "warnings.filterwarnings('ignore')"
      ]
    },
    {
      "cell_type": "markdown",
      "metadata": {
        "id": "FlGvhX6AWZJ_"
      },
      "source": [
        "### 3.2 - Configuração do Chromium para Selenium"
      ]
    },
    {
      "cell_type": "markdown",
      "metadata": {
        "id": "j0ukyOERWmLn"
      },
      "source": [
        "***1*** -  Configurando o driver para o Selenium."
      ]
    },
    {
      "cell_type": "code",
      "execution_count": null,
      "metadata": {
        "id": "HFjbjVQVI_K2"
      },
      "outputs": [],
      "source": [
        "options = webdriver.ChromeOptions()\n",
        "\n",
        "#options.add_argument('--verbose')\n",
        "options.add_argument('--no-sandbox') # Desativa o sandbox\n",
        "options.add_argument('--headless')  # Executa em modo headless (sem interface gráfica)"
      ]
    },
    {
      "cell_type": "markdown",
      "metadata": {
        "id": "HjB9ZbSZWzyj"
      },
      "source": [
        "***2*** - Iniciando o driver e aplicando as configurações pré-definidas."
      ]
    },
    {
      "cell_type": "code",
      "execution_count": null,
      "metadata": {
        "id": "tzC14kJ2NH4o"
      },
      "outputs": [],
      "source": [
        "# Inicia o ChromeDriver\n",
        "driver = webdriver.Chrome(options=options)"
      ]
    },
    {
      "cell_type": "markdown",
      "metadata": {
        "id": "1Az1oGnUcDN2"
      },
      "source": [
        "### 3.3 - Web Scraping"
      ]
    },
    {
      "cell_type": "markdown",
      "metadata": {
        "id": "865bundIYzVG"
      },
      "source": [
        "***Aviso***: O código a seguir pode levar um tempo considerável para ser executado, pois realiza o download de 1.998 arquivos.\n",
        "\n"
      ]
    },
    {
      "cell_type": "markdown",
      "metadata": {
        "id": "io4eLUcDZabc"
      },
      "source": [
        "***1*** - Este código utiliza Selenium para acessar a página do GitHub que contém os arquivos CSV com dados da COVID-19.  \n",
        "Ele extrai os nomes dos arquivos, faz o download de cada um deles e os consolida em um único DataFrame.  \n",
        "A coluna 'Date' é criada a partir do nome do arquivo e convertida para o formato de data.  \n",
        "Por fim, o DataFrame consolidado é salvo como um arquivo CSV localmente.  "
      ]
    },
    {
      "cell_type": "code",
      "execution_count": null,
      "metadata": {
        "colab": {
          "base_uri": "https://localhost:8080/"
        },
        "collapsed": true,
        "id": "VjMzMIpk0H7J",
        "outputId": "b5e5d538-c308-41b1-e460-9a9866f4c341"
      },
      "outputs": [],
      "source": [
        "# URL da página do GitHub que contém os arquivos CSV\n",
        "url = \"https://github.com/CSSEGISandData/COVID-19/tree/master/csse_covid_19_data/csse_covid_19_daily_reports\"\n",
        "\n",
        "# Abrindo o navegador e acessando a URL\n",
        "driver.get(url)\n",
        "\n",
        "# Capturar os links dos arquivos CSV\n",
        "name_files = driver.find_elements(By.XPATH, '//a[contains(@title, \".csv\") and contains(@aria-label, \"(File)\")]')\n",
        "\n",
        "# Extrair os nomes dos arquivos\n",
        "file_names = [file.get_attribute(\"title\") for file in name_files]\n",
        "\n",
        "# Imprimir o total de arquivos encontrados\n",
        "print(len(file_names))\n",
        "\n",
        "# Fechar o navegador\n",
        "driver.quit()\n",
        "\n",
        "# Inicializando um DataFrame vazio para armazenar os dados consolidados\n",
        "df = pd.DataFrame()\n",
        "cont = 0 # Contador para controle do número de arquivos processados\n",
        "\n",
        "# Loop para baixar e processar cada arquivo CSV\n",
        "for file in file_names:\n",
        "\n",
        "    # Carregar o arquivo CSV diretamente do repositório do GitHub\n",
        "    # Por quer não uso a variavel url com o link do repositório?\n",
        "    # porque por algum motivo estranho o Pandas não está conseguindo pegar o arquivo quando tento usar a variavel url ¨\\(:/)/¨\n",
        "    cases = pd.read_csv(f'https://raw.githubusercontent.com/CSSEGISandData/COVID-19/master/csse_covid_19_data/csse_covid_19_daily_reports/{file}', sep=',')\n",
        "\n",
        "    # Criar uma nova coluna 'Date' com a data extraída do nome do arquivo\n",
        "    cases['Date'] = file.split('.')[0]\n",
        "    # Converter a coluna 'Date' para o formato de data (datetime)\n",
        "    cases['Date'] = pd.to_datetime(cases['Date'], format='%m-%d-%Y', errors='coerce')\n",
        "\n",
        "    # Concatenar os dados do arquivo atual ao DataFrame principal\n",
        "    df = pd.concat([df, cases], axis=0, ignore_index=True)\n",
        "\n",
        "    # Atualizar o contador e exibir o progresso\n",
        "    cont = cont + 1\n",
        "    print(f'{cont} de {len(file_names)}.')     # Exibir o número de arquivos processados\n",
        "    print(f'Tamanho do DataFrame. \\n{df.shape}') # Exibir o tamanho atual do DataFrame\n",
        "\n",
        "# Salvar o DataFrame consolidado em um arquivo CSV localmente\n",
        "df.to_csv('./covid19.csv', index=False)"
      ]
    },
    {
      "cell_type": "markdown",
      "metadata": {
        "id": "b0IxmaFxxpjk"
      },
      "source": [
        "##4 - Wrangling dos Dados COVID-19 (Brasil)"
      ]
    },
    {
      "cell_type": "markdown",
      "metadata": {
        "id": "Xd6pKpEXLFsR"
      },
      "source": [
        "### 4.1 - Tratamento"
      ]
    },
    {
      "cell_type": "markdown",
      "metadata": {
        "id": "h89L-57xhptl"
      },
      "source": [
        "Este código realiza o tratamento dos dados extraídos dos arquivos CSV.  \n",
        "Filtra os dados do Brasil, remove colunas irrelevantes,  \n",
        "formata a data, ordena por ordem crescente e  \n",
        "exclui registros com valores nulos antes de salvar em CSV, mas vamos por partes."
      ]
    },
    {
      "cell_type": "markdown",
      "metadata": {
        "id": "KEBPDK2ZyxB7"
      },
      "source": [
        "***1*** - Filtrando os dados para focar exclusivamente no Brasil."
      ]
    },
    {
      "cell_type": "code",
      "execution_count": null,
      "metadata": {
        "colab": {
          "base_uri": "https://localhost:8080/"
        },
        "id": "cESg02rnKKaN",
        "outputId": "fba1f6a7-429b-4393-d946-ddd53d69967a"
      },
      "outputs": [
        {
          "name": "stdout",
          "output_type": "stream",
          "text": [
            "<class 'pandas.core.frame.DataFrame'>\n",
            "Index: 47676 entries, 41 to 7414890\n",
            "Data columns (total 22 columns):\n",
            " #   Column               Non-Null Count  Dtype         \n",
            "---  ------               --------------  -----         \n",
            " 0   FIPS                 0 non-null      float64       \n",
            " 1   Admin2               0 non-null      object        \n",
            " 2   Province_State       47558 non-null  object        \n",
            " 3   Country_Region       47676 non-null  object        \n",
            " 4   Last_Update          47676 non-null  object        \n",
            " 5   Lat                  47638 non-null  float64       \n",
            " 6   Long_                47638 non-null  float64       \n",
            " 7   Confirmed            47676 non-null  float64       \n",
            " 8   Deaths               47676 non-null  float64       \n",
            " 9   Recovered            21432 non-null  float64       \n",
            " 10  Active               21432 non-null  float64       \n",
            " 11  Combined_Key         47676 non-null  object        \n",
            " 12  Incident_Rate        38178 non-null  float64       \n",
            " 13  Case_Fatality_Ratio  38178 non-null  float64       \n",
            " 14  Date                 47676 non-null  datetime64[ns]\n",
            " 15  Province/State       0 non-null      object        \n",
            " 16  Country/Region       0 non-null      object        \n",
            " 17  Last Update          0 non-null      object        \n",
            " 18  Latitude             0 non-null      float64       \n",
            " 19  Longitude            0 non-null      float64       \n",
            " 20  Incidence_Rate       8856 non-null   float64       \n",
            " 21  Case-Fatality_Ratio  8856 non-null   float64       \n",
            "dtypes: datetime64[ns](1), float64(13), object(8)\n",
            "memory usage: 8.4+ MB\n",
            "None\n"
          ]
        }
      ],
      "source": [
        "# Filtra os dados apenas do Brasil\n",
        "df_br = df[df['Country_Region'] == 'Brazil']\n",
        "\n",
        "# Exibe informações do DataFrame\n",
        "print(df_br.info())"
      ]
    },
    {
      "cell_type": "markdown",
      "metadata": {
        "id": "WM6oxxMpLpy2"
      },
      "source": [
        "***2*** - Como podemos observar acima, há muitas colunas sem dados ou com um volume muito baixo de informações. Portanto, vamos remover as colunas que não serão utilizadas devido à ausência de dados ou à irrelevância das informações que contêm."
      ]
    },
    {
      "cell_type": "code",
      "execution_count": null,
      "metadata": {
        "colab": {
          "base_uri": "https://localhost:8080/"
        },
        "id": "G0Bo1zZUKSeJ",
        "outputId": "41b0930e-d08e-43a9-8a29-ccf33e07db20"
      },
      "outputs": [
        {
          "name": "stdout",
          "output_type": "stream",
          "text": [
            "(47676, 7)\n"
          ]
        }
      ],
      "source": [
        "# Remove colunas desnecessárias\n",
        "df_br.drop(columns=['FIPS', 'Admin2', 'Province/State', 'Last_Update', 'Country/Region', 'Last Update', 'Latitude', 'Longitude', 'Combined_Key', 'Incident_Rate','Case_Fatality_Ratio','Incidence_Rate','Case-Fatality_Ratio', 'Recovered', 'Active'], inplace=True)\n",
        "\n",
        "# Shape do DataFrame\n",
        "print(df_br.shape)"
      ]
    },
    {
      "cell_type": "markdown",
      "metadata": {
        "id": "-nd2L38bKUy2"
      },
      "source": [
        "***3*** -  Como podemos observar na Parte ***1***, a coluna **Date** já está no formato **datetime**. No entanto, por precaução, vamos convertê-la novamente para **datetime**, mesmo que isso seja redundante."
      ]
    },
    {
      "cell_type": "code",
      "execution_count": null,
      "metadata": {
        "colab": {
          "base_uri": "https://localhost:8080/"
        },
        "id": "LS9XQIB0KVxQ",
        "outputId": "8ac857f3-39e9-4257-899d-0e6d157a0414"
      },
      "outputs": [
        {
          "name": "stdout",
          "output_type": "stream",
          "text": [
            "<class 'pandas.core.series.Series'>\n",
            "Index: 47676 entries, 41 to 7414890\n",
            "Series name: Date\n",
            "Non-Null Count  Dtype         \n",
            "--------------  -----         \n",
            "47676 non-null  datetime64[ns]\n",
            "dtypes: datetime64[ns](1)\n",
            "memory usage: 744.9 KB\n",
            "None\n"
          ]
        }
      ],
      "source": [
        "# Converte a coluna 'Date' para formato datetime\n",
        "df_br['Date'] = pd.to_datetime(df_br['Date'], format='%Y-%m-%d', errors='coerce')\n",
        "\n",
        "# Exibe informações do DataFrame\n",
        "print(df_br['Date'].info())\n"
      ]
    },
    {
      "cell_type": "markdown",
      "metadata": {
        "id": "vJpyt440OHsU"
      },
      "source": [
        "***4*** - Vamos ordenar as colunas e visualizar o resultado das alterações que fizemos até o momento."
      ]
    },
    {
      "cell_type": "code",
      "execution_count": null,
      "metadata": {
        "colab": {
          "base_uri": "https://localhost:8080/"
        },
        "id": "nL8DKEJoKXES",
        "outputId": "ae5e5ef3-364c-4642-ca82-40978e1f4f7c"
      },
      "outputs": [
        {
          "name": "stdout",
          "output_type": "stream",
          "text": [
            "<class 'pandas.core.frame.DataFrame'>\n",
            "Index: 47676 entries, 41 to 7414890\n",
            "Data columns (total 7 columns):\n",
            " #   Column          Non-Null Count  Dtype         \n",
            "---  ------          --------------  -----         \n",
            " 0   Date            47676 non-null  datetime64[ns]\n",
            " 1   Country_Region  47676 non-null  object        \n",
            " 2   Province_State  47558 non-null  object        \n",
            " 3   Lat             47638 non-null  float64       \n",
            " 4   Long_           47638 non-null  float64       \n",
            " 5   Confirmed       47676 non-null  float64       \n",
            " 6   Deaths          47676 non-null  float64       \n",
            "dtypes: datetime64[ns](1), float64(4), object(2)\n",
            "memory usage: 2.9+ MB\n",
            "None\n",
            "(47676, 7)\n"
          ]
        }
      ],
      "source": [
        "# Reorganiza as colunas na ordem desejada\n",
        "df_br = df_br[['Date',  'Country_Region', 'Province_State', 'Lat', 'Long_',\n",
        "       'Confirmed', 'Deaths']]\n",
        "\n",
        "# Exibe informações do DataFrame\n",
        "print(df_br.info())\n",
        "print(df_br.shape)"
      ]
    },
    {
      "cell_type": "markdown",
      "metadata": {
        "id": "3Qcf8XjZOs9i"
      },
      "source": [
        "***5*** - Podemos observar na seção acima que as colunas **Province_State**, **Lat** e **Long_** possuem alguns valores ausentes. No entanto, como a quantidade de dados faltantes é pequena, optaremos por remover essas colunas."
      ]
    },
    {
      "cell_type": "code",
      "execution_count": null,
      "metadata": {
        "colab": {
          "base_uri": "https://localhost:8080/"
        },
        "id": "JLLtmCQAKZZy",
        "outputId": "00542f51-49be-4c34-9a9c-9204de780679"
      },
      "outputs": [
        {
          "name": "stdout",
          "output_type": "stream",
          "text": [
            "<class 'pandas.core.frame.DataFrame'>\n",
            "Index: 47520 entries, 41 to 7414890\n",
            "Data columns (total 7 columns):\n",
            " #   Column          Non-Null Count  Dtype         \n",
            "---  ------          --------------  -----         \n",
            " 0   Date            47520 non-null  datetime64[ns]\n",
            " 1   Country_Region  47520 non-null  object        \n",
            " 2   Province_State  47520 non-null  object        \n",
            " 3   Lat             47520 non-null  float64       \n",
            " 4   Long_           47520 non-null  float64       \n",
            " 5   Confirmed       47520 non-null  float64       \n",
            " 6   Deaths          47520 non-null  float64       \n",
            "dtypes: datetime64[ns](1), float64(4), object(2)\n",
            "memory usage: 2.9+ MB\n",
            "None\n",
            "(47520, 7)\n"
          ]
        }
      ],
      "source": [
        "# Remove registros com valores nulos em colunas essenciais\n",
        "df_br.dropna(subset=['Province_State', 'Lat', 'Long_'], inplace=True)\n",
        "\n",
        "# Exibe informações do DataFrame\n",
        "print(df_br.info())\n",
        "print(df_br.shape)"
      ]
    },
    {
      "cell_type": "markdown",
      "metadata": {
        "id": "uMoXtIzkP9f8"
      },
      "source": [
        "***6*** - Para melhorar a visualização e padronizar o conjunto de dados, vamos renomear as colunas e garantir que todas estejam em minúsculas."
      ]
    },
    {
      "cell_type": "code",
      "execution_count": null,
      "metadata": {
        "colab": {
          "base_uri": "https://localhost:8080/"
        },
        "id": "fallNv9DP9A-",
        "outputId": "e3470baa-dda7-425e-dbb9-a49116a7497f"
      },
      "outputs": [
        {
          "name": "stdout",
          "output_type": "stream",
          "text": [
            "Index(['date', 'country', 'state', 'latitude', 'longitude', 'confirmed',\n",
            "       'deaths'],\n",
            "      dtype='object')\n"
          ]
        }
      ],
      "source": [
        "# Renomeando as colunas\n",
        "df_br = df_br.rename(\n",
        "  columns={\n",
        "    'Province_State': 'state',\n",
        "    'Country_Region': 'country',\n",
        "    'Lat': 'latitude',\n",
        "    'Long_': 'longitude'\n",
        "  }\n",
        ")\n",
        "\n",
        "# Garantindo que os nomes das colunas estejam em minúsculas.\n",
        "df_br.columns = df_br.columns.str.lower()\n",
        "\n",
        "print(df_br.columns)"
      ]
    },
    {
      "cell_type": "markdown",
      "metadata": {
        "id": "mCUkv9bpPzhX"
      },
      "source": [
        "***7*** -  Vamos também corrigir os nomes dos estados, adicionando a acentuação correta."
      ]
    },
    {
      "cell_type": "code",
      "execution_count": null,
      "metadata": {
        "colab": {
          "base_uri": "https://localhost:8080/"
        },
        "id": "y5YwnCkGPz-J",
        "outputId": "a55d0419-d741-4e80-99eb-0aa050e40b4d"
      },
      "outputs": [
        {
          "name": "stdout",
          "output_type": "stream",
          "text": [
            "['Acre' 'Alagoas' 'Amapá' 'Amazonas' 'Bahia' 'Ceará' 'Distrito Federal'\n",
            " 'Espírito Santo' 'Goiás' 'Maranhao' 'Mato Grosso' 'Mato Grosso do Sul'\n",
            " 'Minas Gerais' 'Pará' 'Paraíba' 'Paraná' 'Pernambuco' 'Piauí'\n",
            " 'Rio Grande do Norte' 'Rio Grande do Sul' 'Rio de Janeiro' 'Rondônia'\n",
            " 'Roraima' 'Santa Catarina' 'São Paulo' 'Sergipe' 'Tocantins']\n"
          ]
        }
      ],
      "source": [
        "# Dicionario com os nomes dos estados\n",
        "states_map = {\n",
        "    'Amapa': 'Amapá',\n",
        "    'Ceara': 'Ceará',\n",
        "    'Espirito Santo': 'Espírito Santo',\n",
        "    'Goias': 'Goiás',\n",
        "    'Para': 'Pará',\n",
        "    'Paraiba': 'Paraíba',\n",
        "    'Parana': 'Paraná',\n",
        "    'Piaui': 'Piauí',\n",
        "    'Rondonia': 'Rondônia',\n",
        "    'Sao Paulo': 'São Paulo'\n",
        "}\n",
        "\n",
        "# Corrigindo os nomes dos estados\n",
        "df_br['state'] = df_br['state'].apply(lambda state: states_map.get(state) if state in states_map.keys() else state)\n",
        "\n",
        "print(df_br['state'].unique())"
      ]
    },
    {
      "cell_type": "markdown",
      "metadata": {
        "id": "h6SleOvqP0sx"
      },
      "source": [
        "***8*** - Criando chaves temporais."
      ]
    },
    {
      "cell_type": "code",
      "execution_count": null,
      "metadata": {
        "id": "FjcqNH77P0gj"
      },
      "outputs": [],
      "source": [
        "# Criando coluna referente ao mês\n",
        "df_br['month'] = df_br['date'].apply(lambda date: date.strftime('%Y-%m'))\n",
        "\n",
        "# Criando coluna referente ao ano\n",
        "df_br['year']  = df_br['date'].apply(lambda date: date.strftime('%Y'))"
      ]
    },
    {
      "cell_type": "markdown",
      "metadata": {
        "id": "MlGTL9LniLRT"
      },
      "source": [
        "***9*** - Vamos realizar mais um Web Scraping, desta vez na Wikipedia, para obter o número de habitantes em cada estado."
      ]
    },
    {
      "cell_type": "code",
      "execution_count": null,
      "metadata": {
        "id": "LhPafYvyu9gR"
      },
      "outputs": [],
      "source": [
        "# Iniciar o driver usando as opções já configuradas no começo do notebook\n",
        "driver = webdriver.Chrome(options=options)\n",
        "\n",
        "# URL da pagina\n",
        "url_pop = 'https://pt.wikipedia.org/wiki/Lista_de_unidades_federativas_do_Brasil_por_popula%C3%A7%C3%A3o'\n",
        "\n",
        "driver.get(url_pop)"
      ]
    },
    {
      "cell_type": "code",
      "execution_count": null,
      "metadata": {
        "colab": {
          "base_uri": "https://localhost:8080/"
        },
        "id": "1wdiwn-7iLuE",
        "outputId": "d9a4af65-6855-43c5-c6e9-b09dbb7dc56d"
      },
      "outputs": [
        {
          "name": "stdout",
          "output_type": "stream",
          "text": [
            "{'Acre': '880631', 'Alagoas': '3220104', 'Amapá': '802837', 'Amazonas': '4281209', 'Bahia': '14850513', 'Ceará': '9233656', 'Distrito Federal': '2982818', 'Espírito Santo': '4102129', 'Goiás': '7350483', 'Mato Grosso': '3836399', 'Mato Grosso do Sul': '2901895', 'Minas Gerais': '21322691', 'Pará': '8664306', 'Paraíba': '4145040', 'Paraná': '11824665', 'Pernambuco': '9539029', 'Piauí': '3375646', 'Rio Grande do Norte': '3446071', 'Rio Grande do Sul': '11229915', 'Rio de Janeiro': '17219679', 'Rondônia': '1746227', 'Roraima': '716793', 'Santa Catarina': '8058441', 'São Paulo': '45973194', 'Sergipe': '2291077', 'Tocantins': '1577342'}\n",
            "                  state       pop\n",
            "41                 Acre    880631\n",
            "42              Alagoas   3220104\n",
            "43                Amapá    802837\n",
            "44             Amazonas   4281209\n",
            "45                Bahia  14850513\n",
            "...                 ...       ...\n",
            "7414886         Roraima    716793\n",
            "7414887  Santa Catarina   8058441\n",
            "7414888       São Paulo  45973194\n",
            "7414889         Sergipe   2291077\n",
            "7414890       Tocantins   1577342\n",
            "\n",
            "[47520 rows x 2 columns]\n"
          ]
        }
      ],
      "source": [
        "# Estados brasileiros\n",
        "states = ['Acre', 'Alagoas', 'Amapá', 'Amazonas', 'Bahia', 'Ceará', 'Distrito Federal',\n",
        " 'Espírito Santo', 'Goiás', 'Maranhao', 'Mato Grosso', 'Mato Grosso do Sul',\n",
        " 'Minas Gerais', 'Pará', 'Paraíba', 'Paraná', 'Pernambuco', 'Piauí',\n",
        " 'Rio Grande do Norte', 'Rio Grande do Sul', 'Rio de Janeiro', 'Rondônia',\n",
        " 'Roraima', 'Santa Catarina', 'São Paulo', 'Sergipe', 'Tocantins']\n",
        "\n",
        "# Buscando a quantidade da população de cada estado e criando um dicionário para armazenar os dados.\n",
        "pop_states = dict()\n",
        "for state in states:\n",
        "  row = driver.find_elements(By.XPATH, f'//tr[contains(., \"{state}\")]')\n",
        "\n",
        "  for item in row:\n",
        "      pop_state = item.find_elements(By.TAG_NAME, \"td\")\n",
        "\n",
        "      pop_states[pop_state[0].text.strip()] = pop_state[1].text.replace(' ', '')\n",
        "\n",
        "# Adicionando a coluna 'pop' com a quantidade de população em cada estado\n",
        "df_br['pop'] = df_br['state'].apply(lambda state: pop_states.get(state, 0))\n",
        "\n",
        "# Converter para numero inteiro as colunas 'pop' e 'confirmed'\n",
        "df_br['pop'] = df_br['pop'].astype(int)\n",
        "df_br['confirmed'] = df_br['confirmed'].astype(int)\n",
        "\n",
        "driver.quit()\n",
        "\n",
        "print(pop_states)\n",
        "print(df_br[['state', 'pop']])"
      ]
    },
    {
      "cell_type": "markdown",
      "metadata": {
        "id": "sKPKz3wWiMVe"
      },
      "source": [
        "***10*** - Recriando a coluna 'incident_rate' (taxa incidencia)"
      ]
    },
    {
      "cell_type": "code",
      "execution_count": null,
      "metadata": {
        "colab": {
          "base_uri": "https://localhost:8080/"
        },
        "id": "-hS2F1VjvIEb",
        "outputId": "cb2176da-2b05-49c2-a446-1cf6b07417ae"
      },
      "outputs": [
        {
          "name": "stdout",
          "output_type": "stream",
          "text": [
            "              pop  confirmed  incident_rate\n",
            "41         880631      41689        4733.99\n",
            "42        3220104     105091        3263.59\n",
            "43         802837      68361        8514.93\n",
            "44        4281209     201574        4708.34\n",
            "45       14850513     494684        3331.09\n",
            "...           ...        ...            ...\n",
            "7414886    716793     175957       24547.81\n",
            "7414887   8058441    1888915       23440.20\n",
            "7414888  45973194    6160930       13401.14\n",
            "7414889   2291077     342945       14968.72\n",
            "7414890   1577342     344892       21865.39\n",
            "\n",
            "[47520 rows x 3 columns]\n"
          ]
        }
      ],
      "source": [
        "incident_rate = (df_br['confirmed'] / df_br['pop']) * 100000\n",
        "df_br['incident_rate'] = incident_rate.round(2)\n",
        "\n",
        "print(df_br[['pop', 'confirmed', 'incident_rate']])"
      ]
    },
    {
      "cell_type": "markdown",
      "metadata": {
        "id": "aVftLyCxxi_q"
      },
      "source": [
        "***11*** - Nesta etapa, calculamos variações diárias, médias móveis e classificamos tendências (alta, queda ou estável) para casos e óbitos por estado. Os dados são processados individualmente e combinados em um único DataFrame final."
      ]
    },
    {
      "cell_type": "code",
      "execution_count": null,
      "metadata": {
        "id": "9qraE5qOxje8"
      },
      "outputs": [],
      "source": [
        "cases_ = None\n",
        "cases_is_empty = True\n",
        "\n",
        "def get_trend(rate: float) -> str:\n",
        "\n",
        "  if np.isnan(rate):\n",
        "    return np.nan\n",
        "\n",
        "  if rate < 0.75:    # Se a divisão for menor que 0.75 (correção 0.85)\n",
        "    status = 'downward'\n",
        "  elif rate > 1.15:\n",
        "    status = 'upward'\n",
        "  else:\n",
        "    status = 'stable'\n",
        "\n",
        "  return status\n",
        "\n",
        "\n",
        "for state in df_br['state'].drop_duplicates():\n",
        "\n",
        "  cases_per_state = df_br.query(f'state == \"{state}\"').reset_index(drop=True)\n",
        "  cases_per_state = cases_per_state.sort_values(by=['date'])\n",
        "\n",
        "  cases_per_state['confirmed_1d'] = cases_per_state['confirmed'].diff(periods=1)\n",
        "  cases_per_state['confirmed_moving_avg_7d'] = np.ceil(cases_per_state['confirmed_1d'].rolling(window=7).mean())\n",
        "  cases_per_state['confirmed_moving_avg_7d_rate_14d'] = cases_per_state['confirmed_moving_avg_7d']/cases_per_state['confirmed_moving_avg_7d'].shift(periods=14)\n",
        "  cases_per_state['confirmed_trend'] = cases_per_state['confirmed_moving_avg_7d_rate_14d'].apply(get_trend)\n",
        "\n",
        "  cases_per_state['deaths_1d'] = cases_per_state['deaths'].diff(periods=1)\n",
        "  cases_per_state['deaths_moving_avg_7d'] = np.ceil(cases_per_state['deaths_1d'].rolling(window=7).mean())\n",
        "  cases_per_state['deaths_moving_avg_7d_rate_14d'] = cases_per_state['deaths_moving_avg_7d']/cases_per_state['deaths_moving_avg_7d'].shift(periods=14)\n",
        "  cases_per_state['deaths_trend'] = cases_per_state['deaths_moving_avg_7d_rate_14d'].apply(get_trend)\n",
        "\n",
        "  if cases_is_empty:\n",
        "    cases_ = cases_per_state\n",
        "    cases_is_empty = False\n",
        "  else:\n",
        "    cases_ = pd.concat([cases_, cases_per_state],axis=0, ignore_index=True)\n",
        "\n",
        "df_br = cases_\n",
        "cases_ = None"
      ]
    },
    {
      "cell_type": "markdown",
      "metadata": {
        "id": "GMLxYFLNxkBg"
      },
      "source": [
        "***12*** - Convertendo as colunas relevantes para o tipo Int64, garantindo consistência nos dados e facilitando análises futuras."
      ]
    },
    {
      "cell_type": "code",
      "execution_count": null,
      "metadata": {
        "id": "Zlmp1I-lxkPn"
      },
      "outputs": [],
      "source": [
        "df_br['pop'] = df_br['pop'].astype('Int64')\n",
        "df_br['confirmed_1d'] = df_br['confirmed_1d'].astype('Int64')\n",
        "df_br['confirmed_moving_avg_7d'] = df_br['confirmed_moving_avg_7d'].astype('Int64')\n",
        "df_br['deaths_1d'] = df_br['deaths_1d'].astype('Int64')\n",
        "df_br['deaths_moving_avg_7d'] = df_br['deaths_moving_avg_7d'].astype('Int64')"
      ]
    },
    {
      "cell_type": "markdown",
      "metadata": {
        "id": "h4_YVOq88DFI"
      },
      "source": [
        "***13*** - Ordenando as colunas para melhor visualização."
      ]
    },
    {
      "cell_type": "code",
      "execution_count": null,
      "metadata": {
        "id": "sDqDq0l08DcI"
      },
      "outputs": [],
      "source": [
        "df_br = df_br[['date', 'country', 'state', 'pop', 'incident_rate',\n",
        "               'confirmed', 'confirmed_1d', 'confirmed_moving_avg_7d', 'confirmed_moving_avg_7d_rate_14d', 'confirmed_trend',\n",
        "               'deaths', 'deaths_1d', 'deaths_moving_avg_7d', 'deaths_moving_avg_7d_rate_14d', 'deaths_trend',\n",
        "               'month', 'year', 'latitude', 'longitude']]"
      ]
    },
    {
      "cell_type": "markdown",
      "metadata": {
        "id": "2D7UDFUd_tSH"
      },
      "source": [
        "***14*** - Visão geral do Dataframe resultante"
      ]
    },
    {
      "cell_type": "code",
      "execution_count": null,
      "metadata": {
        "colab": {
          "base_uri": "https://localhost:8080/"
        },
        "id": "7FGbVWMI_tvi",
        "outputId": "d1e3d8e5-aea5-4b42-9eca-9ecb0b309d89"
      },
      "outputs": [
        {
          "name": "stdout",
          "output_type": "stream",
          "text": [
            "Nomes e ordem das colunas:\n",
            "Index(['date', 'country', 'state', 'pop', 'incident_rate', 'confirmed',\n",
            "       'confirmed_1d', 'confirmed_moving_avg_7d',\n",
            "       'confirmed_moving_avg_7d_rate_14d', 'confirmed_trend', 'deaths',\n",
            "       'deaths_1d', 'deaths_moving_avg_7d', 'deaths_moving_avg_7d_rate_14d',\n",
            "       'deaths_trend', 'month', 'year', 'latitude', 'longitude'],\n",
            "      dtype='object') \n",
            "\n",
            "\n",
            "Tamanho do Dataframe:\n",
            "(47520, 19) \n",
            "\n",
            "\n",
            "Informações do Dataframe;\n",
            "<class 'pandas.core.frame.DataFrame'>\n",
            "RangeIndex: 47520 entries, 0 to 47519\n",
            "Data columns (total 19 columns):\n",
            " #   Column                            Non-Null Count  Dtype         \n",
            "---  ------                            --------------  -----         \n",
            " 0   date                              47520 non-null  datetime64[ns]\n",
            " 1   country                           47520 non-null  object        \n",
            " 2   state                             47520 non-null  object        \n",
            " 3   pop                               47520 non-null  Int64         \n",
            " 4   incident_rate                     47520 non-null  float64       \n",
            " 5   confirmed                         47520 non-null  int64         \n",
            " 6   confirmed_1d                      47493 non-null  Int64         \n",
            " 7   confirmed_moving_avg_7d           47331 non-null  Int64         \n",
            " 8   confirmed_moving_avg_7d_rate_14d  46632 non-null  float64       \n",
            " 9   confirmed_trend                   46632 non-null  object        \n",
            " 10  deaths                            47520 non-null  float64       \n",
            " 11  deaths_1d                         47493 non-null  Int64         \n",
            " 12  deaths_moving_avg_7d              47331 non-null  Int64         \n",
            " 13  deaths_moving_avg_7d_rate_14d     44053 non-null  float64       \n",
            " 14  deaths_trend                      44053 non-null  object        \n",
            " 15  month                             47520 non-null  object        \n",
            " 16  year                              47520 non-null  object        \n",
            " 17  latitude                          47520 non-null  float64       \n",
            " 18  longitude                         47520 non-null  float64       \n",
            "dtypes: Int64(5), datetime64[ns](1), float64(6), int64(1), object(6)\n",
            "memory usage: 7.1+ MB\n",
            "None \n",
            "\n",
            "\n",
            "Visualizar o Dataframe:\n",
            "         date country state     pop  incident_rate  confirmed  confirmed_1d  \\\n",
            "0  2020-05-20  Brazil  Acre  880631         319.88       2817          <NA>   \n",
            "1  2020-05-20  Brazil  Acre  880631         319.88       2817             0   \n",
            "2  2020-05-21  Brazil  Acre  880631         352.36       3103           286   \n",
            "3  2020-05-21  Brazil  Acre  880631         352.36       3103             0   \n",
            "4  2020-05-22  Brazil  Acre  880631         379.61       3343           240   \n",
            "5  2020-05-22  Brazil  Acre  880631         379.61       3343             0   \n",
            "6  2020-05-23  Brazil  Acre  880631         439.12       3867           524   \n",
            "7  2020-05-23  Brazil  Acre  880631         439.12       3867             0   \n",
            "8  2020-05-24  Brazil  Acre  880631         472.39       4160           293   \n",
            "9  2020-05-24  Brazil  Acre  880631         472.39       4160             0   \n",
            "10 2020-05-25  Brazil  Acre  880631         511.11       4501           341   \n",
            "11 2020-05-25  Brazil  Acre  880631         511.11       4501             0   \n",
            "12 2020-05-26  Brazil  Acre  880631         542.91       4781           280   \n",
            "13 2020-05-26  Brazil  Acre  880631         542.91       4781             0   \n",
            "14 2020-05-27  Brazil  Acre  880631         596.28       5251           470   \n",
            "15 2020-05-27  Brazil  Acre  880631         596.28       5251             0   \n",
            "16 2020-05-28  Brazil  Acre  880631         635.91       5600           349   \n",
            "17 2020-05-28  Brazil  Acre  880631         635.91       5600             0   \n",
            "18 2020-05-29  Brazil  Acre  880631         663.27       5841           241   \n",
            "19 2020-05-29  Brazil  Acre  880631         663.27       5841             0   \n",
            "20 2020-05-30  Brazil  Acre  880631         689.51       6072           231   \n",
            "21 2020-05-30  Brazil  Acre  880631         689.51       6072             0   \n",
            "22 2020-05-31  Brazil  Acre  880631         706.20       6219           147   \n",
            "23 2020-05-31  Brazil  Acre  880631         706.20       6219             0   \n",
            "24 2020-06-01  Brazil  Acre  880631         718.35       6326           107   \n",
            "\n",
            "    confirmed_moving_avg_7d  confirmed_moving_avg_7d_rate_14d confirmed_trend  \\\n",
            "0                      <NA>                               NaN             NaN   \n",
            "1                      <NA>                               NaN             NaN   \n",
            "2                      <NA>                               NaN             NaN   \n",
            "3                      <NA>                               NaN             NaN   \n",
            "4                      <NA>                               NaN             NaN   \n",
            "5                      <NA>                               NaN             NaN   \n",
            "6                      <NA>                               NaN             NaN   \n",
            "7                       150                               NaN             NaN   \n",
            "8                       192                               NaN             NaN   \n",
            "9                       151                               NaN             NaN   \n",
            "10                      200                               NaN             NaN   \n",
            "11                      166                               NaN             NaN   \n",
            "12                      206                               NaN             NaN   \n",
            "13                      131                               NaN             NaN   \n",
            "14                      198                               NaN             NaN   \n",
            "15                      156                               NaN             NaN   \n",
            "16                      206                               NaN             NaN   \n",
            "17                      157                               NaN             NaN   \n",
            "18                      192                               NaN             NaN   \n",
            "19                      152                               NaN             NaN   \n",
            "20                      185                               NaN             NaN   \n",
            "21                      118                          0.786667          stable   \n",
            "22                      139                          0.723958        downward   \n",
            "23                       89                          0.589404        downward   \n",
            "24                      104                          0.520000        downward   \n",
            "\n",
            "    deaths  deaths_1d  deaths_moving_avg_7d  deaths_moving_avg_7d_rate_14d  \\\n",
            "0     76.0       <NA>                  <NA>                            NaN   \n",
            "1     76.0          0                  <NA>                            NaN   \n",
            "2     78.0          2                  <NA>                            NaN   \n",
            "3     78.0          0                  <NA>                            NaN   \n",
            "4     80.0          2                  <NA>                            NaN   \n",
            "5     80.0          0                  <NA>                            NaN   \n",
            "6     87.0          7                  <NA>                            NaN   \n",
            "7     87.0          0                     2                            NaN   \n",
            "8     92.0          5                     3                            NaN   \n",
            "9     92.0          0                     2                            NaN   \n",
            "10    97.0          5                     3                            NaN   \n",
            "11    97.0          0                     3                            NaN   \n",
            "12   105.0          8                     4                            NaN   \n",
            "13   105.0          0                     3                            NaN   \n",
            "14   113.0          8                     4                            NaN   \n",
            "15   113.0          0                     3                            NaN   \n",
            "16   122.0          9                     5                            NaN   \n",
            "17   122.0          0                     4                            NaN   \n",
            "18   135.0         13                     6                            NaN   \n",
            "19   135.0          0                     5                            NaN   \n",
            "20   142.0          7                     6                            NaN   \n",
            "21   142.0          0                     5                       2.500000   \n",
            "22   148.0          6                     5                       1.666667   \n",
            "23   148.0          0                     4                       2.000000   \n",
            "24   161.0         13                     6                       2.000000   \n",
            "\n",
            "   deaths_trend    month  year  latitude  longitude  \n",
            "0           NaN  2020-05  2020   -9.0238    -70.812  \n",
            "1           NaN  2020-05  2020   -9.0238    -70.812  \n",
            "2           NaN  2020-05  2020   -9.0238    -70.812  \n",
            "3           NaN  2020-05  2020   -9.0238    -70.812  \n",
            "4           NaN  2020-05  2020   -9.0238    -70.812  \n",
            "5           NaN  2020-05  2020   -9.0238    -70.812  \n",
            "6           NaN  2020-05  2020   -9.0238    -70.812  \n",
            "7           NaN  2020-05  2020   -9.0238    -70.812  \n",
            "8           NaN  2020-05  2020   -9.0238    -70.812  \n",
            "9           NaN  2020-05  2020   -9.0238    -70.812  \n",
            "10          NaN  2020-05  2020   -9.0238    -70.812  \n",
            "11          NaN  2020-05  2020   -9.0238    -70.812  \n",
            "12          NaN  2020-05  2020   -9.0238    -70.812  \n",
            "13          NaN  2020-05  2020   -9.0238    -70.812  \n",
            "14          NaN  2020-05  2020   -9.0238    -70.812  \n",
            "15          NaN  2020-05  2020   -9.0238    -70.812  \n",
            "16          NaN  2020-05  2020   -9.0238    -70.812  \n",
            "17          NaN  2020-05  2020   -9.0238    -70.812  \n",
            "18          NaN  2020-05  2020   -9.0238    -70.812  \n",
            "19          NaN  2020-05  2020   -9.0238    -70.812  \n",
            "20          NaN  2020-05  2020   -9.0238    -70.812  \n",
            "21       upward  2020-05  2020   -9.0238    -70.812  \n",
            "22       upward  2020-05  2020   -9.0238    -70.812  \n",
            "23       upward  2020-05  2020   -9.0238    -70.812  \n",
            "24       upward  2020-06  2020   -9.0238    -70.812  \n"
          ]
        }
      ],
      "source": [
        "print('Nomes e ordem das colunas:')\n",
        "print(df_br.columns,'\\n\\n')\n",
        "print('Tamanho do Dataframe:')\n",
        "print(df_br.shape,'\\n\\n')\n",
        "print('Informações do Dataframe;')\n",
        "print(df_br.info(),'\\n\\n')\n",
        "print('Visualizar o Dataframe:')\n",
        "print(df_br.head(25))"
      ]
    },
    {
      "cell_type": "markdown",
      "metadata": {
        "id": "tceM5ClwZCgw"
      },
      "source": [
        "### 4.2 - Carregamento"
      ]
    },
    {
      "cell_type": "markdown",
      "metadata": {
        "id": "LsqykJyZPg3X"
      },
      "source": [
        "***1*** -  Vamos  salvar o Dataframe tratado em um arquivo CSV."
      ]
    },
    {
      "cell_type": "code",
      "execution_count": null,
      "metadata": {
        "id": "OwESAgqJhpbH"
      },
      "outputs": [],
      "source": [
        "# Salvar o DataFrame resultante em um arquivo CSV localmente\n",
        "df_br.to_csv('./covid19_br.csv', index=False)"
      ]
    },
    {
      "cell_type": "markdown",
      "metadata": {
        "id": "ijpPXX-CMf-G"
      },
      "source": [
        "##5 - Wrangling do Dados da Vacinação do COVID-19 (Brasil)"
      ]
    },
    {
      "cell_type": "markdown",
      "metadata": {
        "id": "8L_9kgE8CsVo"
      },
      "source": [
        "### 5.1 - Extração"
      ]
    },
    {
      "cell_type": "markdown",
      "metadata": {
        "id": "h7BLrsP2wxYe"
      },
      "source": [
        "***1*** - Carregando o arquivo CSV diretamente do repositório do GitHub / Our World in Data"
      ]
    },
    {
      "cell_type": "code",
      "execution_count": null,
      "metadata": {
        "id": "V3ZBr8KXCsub"
      },
      "outputs": [],
      "source": [
        "# Carregando o DataFrame e convertendo a coluna de datas para o formato datetime.\n",
        "df_vaccines = pd.read_csv('https://covid.ourworldindata.org/data/owid-covid-data.csv', sep=',', parse_dates=[3], infer_datetime_format=True)"
      ]
    },
    {
      "cell_type": "markdown",
      "metadata": {
        "id": "h4uz977iwxxW"
      },
      "source": [
        "***2*** - Filtrando os dados para focar exclusivamente no Brasil e selecionando apenas as colunas relevantes para a análise."
      ]
    },
    {
      "cell_type": "code",
      "execution_count": null,
      "metadata": {
        "colab": {
          "base_uri": "https://localhost:8080/"
        },
        "id": "QQMKUov5Cve6",
        "outputId": "abda1e44-02df-472e-c0b1-5ca9d14e05fb"
      },
      "outputs": [
        {
          "name": "stdout",
          "output_type": "stream",
          "text": [
            "      location  population  total_vaccinations  people_vaccinated  \\\n",
            "50234   Brazil   215313504                 NaN                NaN   \n",
            "50235   Brazil   215313504                 NaN                NaN   \n",
            "50236   Brazil   215313504                 NaN                NaN   \n",
            "50237   Brazil   215313504                 NaN                NaN   \n",
            "50238   Brazil   215313504                 NaN                NaN   \n",
            "\n",
            "       people_fully_vaccinated  total_boosters       date  \n",
            "50234                      NaN             NaN 2020-01-05  \n",
            "50235                      NaN             NaN 2020-01-06  \n",
            "50236                      NaN             NaN 2020-01-07  \n",
            "50237                      NaN             NaN 2020-01-08  \n",
            "50238                      NaN             NaN 2020-01-09  \n"
          ]
        }
      ],
      "source": [
        "df_vaccines = df_vaccines.query('location == \"Brazil\"')\n",
        "df_vaccines = df_vaccines[['location', 'population', 'total_vaccinations', 'people_vaccinated', 'people_fully_vaccinated', 'total_boosters', 'date']]\n",
        "\n",
        "print(df_vaccines.head())"
      ]
    },
    {
      "cell_type": "markdown",
      "metadata": {
        "id": "Rg8KaeB2X38R"
      },
      "source": [
        "### 5.2 - Tratamento"
      ]
    },
    {
      "cell_type": "markdown",
      "metadata": {
        "id": "pNtqxxOED14P"
      },
      "source": [
        "***1*** - Preenchendo os valores nulos utilizando a informação da linha anterior."
      ]
    },
    {
      "cell_type": "code",
      "execution_count": null,
      "metadata": {
        "colab": {
          "base_uri": "https://localhost:8080/"
        },
        "id": "Tnp9APwOD2On",
        "outputId": "42fc8d18-2ce0-4fcf-f498-2523342fd0c7"
      },
      "outputs": [
        {
          "name": "stdout",
          "output_type": "stream",
          "text": [
            "<class 'pandas.core.frame.DataFrame'>\n",
            "Index: 1674 entries, 50234 to 51907\n",
            "Data columns (total 7 columns):\n",
            " #   Column                   Non-Null Count  Dtype         \n",
            "---  ------                   --------------  -----         \n",
            " 0   location                 1674 non-null   object        \n",
            " 1   population               1674 non-null   int64         \n",
            " 2   total_vaccinations       1296 non-null   float64       \n",
            " 3   people_vaccinated        1296 non-null   float64       \n",
            " 4   people_fully_vaccinated  1277 non-null   float64       \n",
            " 5   total_boosters           1068 non-null   float64       \n",
            " 6   date                     1674 non-null   datetime64[ns]\n",
            "dtypes: datetime64[ns](1), float64(4), int64(1), object(1)\n",
            "memory usage: 104.6+ KB\n",
            "None\n"
          ]
        }
      ],
      "source": [
        "df_vaccines = df_vaccines.fillna(method='ffill')\n",
        "\n",
        "print(df_vaccines.info())"
      ]
    },
    {
      "cell_type": "markdown",
      "metadata": {
        "id": "K2mtuwyBV_uH"
      },
      "source": [
        "***2*** - Vamos ajustar o início do nosso DataFrame para que os dados da progressão da COVID-19 e os dados de vacinação comecem no mesmo dia, já que o df_br só contém informações após o início da vacinação. Além disso, para analisar a evolução da vacinação, ajustaremos o final do df_vaccines para um ano após o término do df_br."
      ]
    },
    {
      "cell_type": "code",
      "execution_count": null,
      "metadata": {
        "colab": {
          "base_uri": "https://localhost:8080/"
        },
        "id": "3KrbUPD51pFe",
        "outputId": "9e37dc8a-c6ad-4e58-f296-929f85cfa1f5"
      },
      "outputs": [
        {
          "name": "stdout",
          "output_type": "stream",
          "text": [
            "Inicio\n",
            "Contagio inicio: 2020-05-20 00:00:00\n",
            "Vacina inicio:   2020-01-05 00:00:00\n",
            "\n",
            "Fim\n",
            "Contagio fim:    2023-03-09 00:00:00\n",
            "Vacina fim:      2024-08-04 00:00:00\n"
          ]
        }
      ],
      "source": [
        "print('Inicio')\n",
        "print(f'Contagio inicio: {df_br[\"date\"].iloc[0]}')\n",
        "print(f'Vacina inicio:   {df_vaccines[\"date\"].iloc[0]}')\n",
        "print('')\n",
        "print('Fim')\n",
        "print(f'Contagio fim:    {df_br[\"date\"].iloc[-1]}')\n",
        "print(f'Vacina fim:      {df_vaccines[\"date\"].iloc[-1]}')"
      ]
    },
    {
      "cell_type": "code",
      "execution_count": null,
      "metadata": {
        "colab": {
          "base_uri": "https://localhost:8080/"
        },
        "id": "1WhF4KZ0WACT",
        "outputId": "e4e8be60-e186-4407-9a20-1325195b8bb0"
      },
      "outputs": [
        {
          "name": "stdout",
          "output_type": "stream",
          "text": [
            "<class 'pandas.core.series.Series'>\n",
            "RangeIndex: 1390 entries, 0 to 1389\n",
            "Series name: date\n",
            "Non-Null Count  Dtype         \n",
            "--------------  -----         \n",
            "1390 non-null   datetime64[ns]\n",
            "dtypes: datetime64[ns](1)\n",
            "memory usage: 11.0 KB\n",
            "None\n"
          ]
        }
      ],
      "source": [
        "df_vaccines = df_vaccines[(df_vaccines['date'] >= '2020-05-20') & (df_vaccines['date'] <= '2024-03-09')].reset_index(drop=True)\n",
        "print(df_vaccines['date'].info())"
      ]
    },
    {
      "cell_type": "code",
      "execution_count": null,
      "metadata": {
        "colab": {
          "base_uri": "https://localhost:8080/"
        },
        "id": "IBWJ_ndT4bwN",
        "outputId": "e1164814-3734-4c03-84c7-7347be2deec2"
      },
      "outputs": [
        {
          "name": "stdout",
          "output_type": "stream",
          "text": [
            "Inicio\n",
            "Vacina inicio:   2020-05-20 00:00:00\n",
            "Contagio inicio: 2020-05-20 00:00:00\n",
            "\n",
            "Fim\n",
            "Vacina fim:      2024-03-09 00:00:00\n",
            "Contagio fim:    2023-03-09 00:00:00\n"
          ]
        }
      ],
      "source": [
        "print('Inicio')\n",
        "print(f'Vacina inicio:   {df_vaccines[\"date\"].iloc[0]}')\n",
        "print(f'Contagio inicio: {df_br[\"date\"].iloc[0]}')\n",
        "print('')\n",
        "print('Fim')\n",
        "print(f'Vacina fim:      {df_vaccines[\"date\"].iloc[-1]}')\n",
        "print(f'Contagio fim:    {df_br[\"date\"].iloc[-1]}')"
      ]
    },
    {
      "cell_type": "markdown",
      "metadata": {
        "id": "8Oj06b9KWAZJ"
      },
      "source": [
        "***3*** - Renomear as colunas."
      ]
    },
    {
      "cell_type": "code",
      "execution_count": null,
      "metadata": {
        "id": "Mw2VEm0GWAr7"
      },
      "outputs": [],
      "source": [
        "df_vaccines = df_vaccines.rename(\n",
        "  columns={\n",
        "    'location': 'country',\n",
        "    'total_vaccinations': 'total',\n",
        "    'people_vaccinated': 'one_shot',\n",
        "    'people_fully_vaccinated': 'two_shots',\n",
        "    'total_boosters': 'three_shots',\n",
        "  }\n",
        ")"
      ]
    },
    {
      "cell_type": "markdown",
      "metadata": {
        "id": "8gWTtkNQZMRP"
      },
      "source": [
        "***4*** - Criando colunas do mês e do ano."
      ]
    },
    {
      "cell_type": "code",
      "execution_count": null,
      "metadata": {
        "id": "JqrJCVedYoxE"
      },
      "outputs": [],
      "source": [
        "df_vaccines['month'] = df_vaccines['date'].apply(lambda date: date.strftime('%Y-%m'))\n",
        "df_vaccines['year']  = df_vaccines['date'].apply(lambda date: date.strftime('%Y'))"
      ]
    },
    {
      "cell_type": "markdown",
      "metadata": {
        "id": "wbVJicIyZM2U"
      },
      "source": [
        "***5*** - Calcula a porcentagem de vacinados em cada categoria."
      ]
    },
    {
      "cell_type": "code",
      "execution_count": null,
      "metadata": {
        "id": "DrNxLJmvYq-o"
      },
      "outputs": [],
      "source": [
        "df_vaccines['one_shot_perc'] = round(df_vaccines['one_shot'] / df_vaccines['population'], 4)\n",
        "df_vaccines['two_shots_perc'] = round(df_vaccines['two_shots'] / df_vaccines['population'], 4)\n",
        "df_vaccines['three_shots_perc'] = round(df_vaccines['three_shots'] / df_vaccines['population'], 4)"
      ]
    },
    {
      "cell_type": "markdown",
      "metadata": {
        "id": "3BS8gzThZNOH"
      },
      "source": [
        "***6*** - Converte algumas colunas para inteiros."
      ]
    },
    {
      "cell_type": "code",
      "execution_count": null,
      "metadata": {
        "id": "j3y3rgbGYvHc"
      },
      "outputs": [],
      "source": [
        "df_vaccines['population'] = df_vaccines['population'].astype('Int64')\n",
        "df_vaccines['total'] = df_vaccines['total'].astype('Int64')\n",
        "df_vaccines['one_shot'] = df_vaccines['one_shot'].astype('Int64')\n",
        "df_vaccines['two_shots'] = df_vaccines['two_shots'].astype('Int64')\n",
        "df_vaccines['three_shots'] = df_vaccines['three_shots'].astype('Int64')"
      ]
    },
    {
      "cell_type": "markdown",
      "metadata": {
        "id": "HHxlPpvMZNrB"
      },
      "source": [
        "***7*** - Define a ordem das colunas."
      ]
    },
    {
      "cell_type": "code",
      "execution_count": null,
      "metadata": {
        "id": "T9xMgYy8Y13z"
      },
      "outputs": [],
      "source": [
        "df_vaccines = df_vaccines[['date', 'country', 'population', 'total', 'one_shot', 'one_shot_perc', 'two_shots', 'two_shots_perc', 'three_shots', 'three_shots_perc', 'month', 'year']]"
      ]
    },
    {
      "cell_type": "markdown",
      "metadata": {
        "id": "UkgFKa_EHn94"
      },
      "source": [
        "***8*** - Visão geral do Dataframe resultante"
      ]
    },
    {
      "cell_type": "code",
      "execution_count": null,
      "metadata": {
        "colab": {
          "base_uri": "https://localhost:8080/"
        },
        "id": "K0OWTDQ4HnWJ",
        "outputId": "fd823065-e99e-4b8f-9c46-3d5865f9b67b"
      },
      "outputs": [
        {
          "name": "stdout",
          "output_type": "stream",
          "text": [
            "Nomes e ordem das colunas:\n",
            "Index(['date', 'country', 'population', 'total', 'one_shot', 'one_shot_perc',\n",
            "       'two_shots', 'two_shots_perc', 'three_shots', 'three_shots_perc',\n",
            "       'month', 'year'],\n",
            "      dtype='object') \n",
            "\n",
            "\n",
            "Tamanho do Dataframe:\n",
            "(1390, 12) \n",
            "\n",
            "\n",
            "Informações do Dataframe;\n",
            "<class 'pandas.core.frame.DataFrame'>\n",
            "RangeIndex: 1390 entries, 0 to 1389\n",
            "Data columns (total 12 columns):\n",
            " #   Column            Non-Null Count  Dtype         \n",
            "---  ------            --------------  -----         \n",
            " 0   date              1390 non-null   datetime64[ns]\n",
            " 1   country           1390 non-null   object        \n",
            " 2   population        1390 non-null   Int64         \n",
            " 3   total             1148 non-null   Int64         \n",
            " 4   one_shot          1148 non-null   Int64         \n",
            " 5   one_shot_perc     1148 non-null   float64       \n",
            " 6   two_shots         1129 non-null   Int64         \n",
            " 7   two_shots_perc    1129 non-null   float64       \n",
            " 8   three_shots       920 non-null    Int64         \n",
            " 9   three_shots_perc  920 non-null    float64       \n",
            " 10  month             1390 non-null   object        \n",
            " 11  year              1390 non-null   object        \n",
            "dtypes: Int64(5), datetime64[ns](1), float64(3), object(3)\n",
            "memory usage: 137.2+ KB\n",
            "None \n",
            "\n",
            "\n",
            "Visualizar o Dataframe:\n",
            "        date country  population  total  one_shot  one_shot_perc  two_shots  \\\n",
            "0 2020-05-20  Brazil   215313504   <NA>      <NA>            NaN       <NA>   \n",
            "1 2020-05-21  Brazil   215313504   <NA>      <NA>            NaN       <NA>   \n",
            "2 2020-05-22  Brazil   215313504   <NA>      <NA>            NaN       <NA>   \n",
            "3 2020-05-23  Brazil   215313504   <NA>      <NA>            NaN       <NA>   \n",
            "4 2020-05-24  Brazil   215313504   <NA>      <NA>            NaN       <NA>   \n",
            "5 2020-05-25  Brazil   215313504   <NA>      <NA>            NaN       <NA>   \n",
            "6 2020-05-26  Brazil   215313504   <NA>      <NA>            NaN       <NA>   \n",
            "7 2020-05-27  Brazil   215313504   <NA>      <NA>            NaN       <NA>   \n",
            "8 2020-05-28  Brazil   215313504   <NA>      <NA>            NaN       <NA>   \n",
            "9 2020-05-29  Brazil   215313504   <NA>      <NA>            NaN       <NA>   \n",
            "\n",
            "   two_shots_perc  three_shots  three_shots_perc    month  year  \n",
            "0             NaN         <NA>               NaN  2020-05  2020  \n",
            "1             NaN         <NA>               NaN  2020-05  2020  \n",
            "2             NaN         <NA>               NaN  2020-05  2020  \n",
            "3             NaN         <NA>               NaN  2020-05  2020  \n",
            "4             NaN         <NA>               NaN  2020-05  2020  \n",
            "5             NaN         <NA>               NaN  2020-05  2020  \n",
            "6             NaN         <NA>               NaN  2020-05  2020  \n",
            "7             NaN         <NA>               NaN  2020-05  2020  \n",
            "8             NaN         <NA>               NaN  2020-05  2020  \n",
            "9             NaN         <NA>               NaN  2020-05  2020  \n",
            "           date country  population      total   one_shot  one_shot_perc  \\\n",
            "1380 2024-02-29  Brazil   215313504  486436436  189643431         0.8808   \n",
            "1381 2024-03-01  Brazil   215313504  486436436  189643431         0.8808   \n",
            "1382 2024-03-02  Brazil   215313504  486436436  189643431         0.8808   \n",
            "1383 2024-03-03  Brazil   215313504  486436436  189643431         0.8808   \n",
            "1384 2024-03-04  Brazil   215313504  486436436  189643431         0.8808   \n",
            "1385 2024-03-05  Brazil   215313504  486436436  189643431         0.8808   \n",
            "1386 2024-03-06  Brazil   215313504  486436436  189643431         0.8808   \n",
            "1387 2024-03-07  Brazil   215313504  486436436  189643431         0.8808   \n",
            "1388 2024-03-08  Brazil   215313504  486436436  189643431         0.8808   \n",
            "1389 2024-03-09  Brazil   215313504  486436436  189643431         0.8808   \n",
            "\n",
            "      two_shots  two_shots_perc  three_shots  three_shots_perc    month  year  \n",
            "1380  176164186          0.8182    126388587             0.587  2024-02  2024  \n",
            "1381  176164186          0.8182    126388587             0.587  2024-03  2024  \n",
            "1382  176164186          0.8182    126388587             0.587  2024-03  2024  \n",
            "1383  176164186          0.8182    126388587             0.587  2024-03  2024  \n",
            "1384  176164186          0.8182    126388587             0.587  2024-03  2024  \n",
            "1385  176164186          0.8182    126388587             0.587  2024-03  2024  \n",
            "1386  176164186          0.8182    126388587             0.587  2024-03  2024  \n",
            "1387  176164186          0.8182    126388587             0.587  2024-03  2024  \n",
            "1388  176164186          0.8182    126388587             0.587  2024-03  2024  \n",
            "1389  176164186          0.8182    126388587             0.587  2024-03  2024  \n"
          ]
        }
      ],
      "source": [
        "print('Nomes e ordem das colunas:')\n",
        "print(df_vaccines.columns,'\\n\\n')\n",
        "print('Tamanho do Dataframe:')\n",
        "print(df_vaccines.shape,'\\n\\n')\n",
        "print('Informações do Dataframe;')\n",
        "print(df_vaccines.info(),'\\n\\n')\n",
        "print('Visualizar o Dataframe:')\n",
        "print(df_vaccines.head(10))\n",
        "print(df_vaccines.tail(10))"
      ]
    },
    {
      "cell_type": "markdown",
      "metadata": {
        "id": "fKbpgYGjY6hC"
      },
      "source": [
        "### 5.3 - Carregamento"
      ]
    },
    {
      "cell_type": "markdown",
      "metadata": {
        "id": "zGFL-OdMzvFf"
      },
      "source": [
        "***1*** - Vamos  salvar o Dataframe tratado em um arquivo CSV."
      ]
    },
    {
      "cell_type": "code",
      "execution_count": null,
      "metadata": {
        "id": "-v39SFP-Y4RU"
      },
      "outputs": [],
      "source": [
        "df_vaccines.to_csv('./covid-vaccines.csv', sep=',', index=False)"
      ]
    }
  ],
  "metadata": {
    "colab": {
      "provenance": [],
      "toc_visible": true
    },
    "kernelspec": {
      "display_name": "Python 3",
      "name": "python3"
    },
    "language_info": {
      "name": "python"
    }
  },
  "nbformat": 4,
  "nbformat_minor": 0
}
